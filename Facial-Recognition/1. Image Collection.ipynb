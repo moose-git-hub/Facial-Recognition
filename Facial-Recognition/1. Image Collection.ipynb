{
 "cells": [
  {
   "cell_type": "markdown",
   "metadata": {},
   "source": [
    "# 1. Import Dependencies"
   ]
  },
  {
   "cell_type": "code",
   "execution_count": 1,
   "metadata": {},
   "outputs": [
    {
     "name": "stdout",
     "output_type": "stream",
     "text": [
      "Collecting opencv-python\n",
      "  Downloading opencv_python-4.5.5.64-cp36-abi3-win_amd64.whl (35.4 MB)\n",
      "     ---------------------------------------- 35.4/35.4 MB 2.5 MB/s eta 0:00:00\n",
      "Collecting numpy>=1.14.5\n",
      "  Downloading numpy-1.22.3-cp310-cp310-win_amd64.whl (14.7 MB)\n",
      "     ---------------------------------------- 14.7/14.7 MB 4.2 MB/s eta 0:00:00\n",
      "Installing collected packages: numpy, opencv-python\n",
      "Successfully installed numpy-1.22.3 opencv-python-4.5.5.64\n"
     ]
    }
   ],
   "source": [
    "!pip install opencv-python"
   ]
  },
  {
   "cell_type": "code",
   "execution_count": 2,
   "metadata": {},
   "outputs": [],
   "source": [
    "# Import opencv\n",
    "import cv2 \n",
    "\n",
    "# Import uuid\n",
    "import uuid\n",
    "\n",
    "# Import Operating System\n",
    "import os\n",
    "\n",
    "# Import time\n",
    "import time"
   ]
  },
  {
   "cell_type": "markdown",
   "metadata": {},
   "source": [
    "# 2. Define Images to Collect"
   ]
  },
  {
   "cell_type": "code",
   "execution_count": 9,
   "metadata": {},
   "outputs": [],
   "source": [
    "labels = ['Abdurajak_Abubakar_Janjalani']\n",
    "number_imgs = 20"
   ]
  },
  {
   "cell_type": "code",
   "execution_count": 10,
   "metadata": {},
   "outputs": [
    {
     "data": {
      "text/plain": [
       "20"
      ]
     },
     "execution_count": 10,
     "metadata": {},
     "output_type": "execute_result"
    }
   ],
   "source": [
    "number_imgs"
   ]
  },
  {
   "cell_type": "markdown",
   "metadata": {},
   "source": [
    "# 3. Setup Folders "
   ]
  },
  {
   "cell_type": "code",
   "execution_count": 11,
   "metadata": {},
   "outputs": [],
   "source": [
    "IMAGES_PATH = os.path.join('Tensorflow', 'workspace', 'images', 'collectedimages')"
   ]
  },
  {
   "cell_type": "code",
   "execution_count": 12,
   "metadata": {},
   "outputs": [
    {
     "name": "stdout",
     "output_type": "stream",
     "text": [
      "Tensorflow\\workspace\\images\\collectedimages\n"
     ]
    }
   ],
   "source": [
    "print(IMAGES_PATH)"
   ]
  },
  {
   "cell_type": "code",
   "execution_count": 13,
   "metadata": {},
   "outputs": [
    {
     "data": {
      "text/plain": [
       "'nt'"
      ]
     },
     "execution_count": 13,
     "metadata": {},
     "output_type": "execute_result"
    }
   ],
   "source": [
    "os.name"
   ]
  },
  {
   "cell_type": "code",
   "execution_count": 14,
   "metadata": {},
   "outputs": [],
   "source": [
    "if not os.path.exists(IMAGES_PATH):\n",
    "    if os.name == 'posix':\n",
    "        !mkdir -p {IMAGES_PATH}\n",
    "    if os.name == 'nt':\n",
    "         !mkdir {IMAGES_PATH}\n",
    "for label in labels:\n",
    "    path = os.path.join(IMAGES_PATH, label)\n",
    "    if not os.path.exists(path):\n",
    "        !mkdir {path}"
   ]
  },
  {
   "cell_type": "markdown",
   "metadata": {},
   "source": [
    "# 4. Capture Images"
   ]
  },
  {
   "cell_type": "code",
   "execution_count": 15,
   "metadata": {},
   "outputs": [
    {
     "name": "stdout",
     "output_type": "stream",
     "text": [
      "Collecting images for Abdurajak_Abubakar_Janjalani\n",
      "Collecting image 0\n",
      "Collecting image 1\n",
      "Collecting image 2\n",
      "Collecting image 3\n",
      "Collecting image 4\n",
      "Collecting image 5\n",
      "Collecting image 6\n",
      "Collecting image 7\n",
      "Collecting image 8\n",
      "Collecting image 9\n",
      "Collecting image 10\n",
      "Collecting image 11\n",
      "Collecting image 12\n",
      "Collecting image 13\n",
      "Collecting image 14\n",
      "Collecting image 15\n",
      "Collecting image 16\n",
      "Collecting image 17\n",
      "Collecting image 18\n",
      "Collecting image 19\n"
     ]
    }
   ],
   "source": [
    "for label in labels:\n",
    "    cap = cv2.VideoCapture(0)\n",
    "    print('Collecting images for {}'.format(label))\n",
    "    time.sleep(5)\n",
    "    for imgnum in range(number_imgs):\n",
    "        print('Collecting image {}'.format(imgnum))\n",
    "        ret, frame = cap.read()\n",
    "        imgname = os.path.join(IMAGES_PATH,label,label+'.'+'{}.jpg'.format(str(uuid.uuid1())))\n",
    "        cv2.imwrite(imgname, frame)\n",
    "        cv2.imshow('frame', frame)\n",
    "        time.sleep(2)\n",
    "\n",
    "        if cv2.waitKey(1) & 0xFF == ord('q'):\n",
    "            break\n",
    "cap.release()\n",
    "cv2.destroyAllWindows()"
   ]
  },
  {
   "cell_type": "markdown",
   "metadata": {},
   "source": [
    "# 5. Image Labelling"
   ]
  },
  {
   "cell_type": "code",
   "execution_count": 16,
   "metadata": {},
   "outputs": [
    {
     "name": "stdout",
     "output_type": "stream",
     "text": [
      "Collecting pyqt5\n",
      "  Downloading PyQt5-5.15.6-cp36-abi3-win_amd64.whl (6.7 MB)\n",
      "     ---------------------------------------- 6.7/6.7 MB 1.6 MB/s eta 0:00:00\n",
      "Collecting lxml\n",
      "  Downloading lxml-4.8.0-cp310-cp310-win_amd64.whl (3.6 MB)\n",
      "     ---------------------------------------- 3.6/3.6 MB 1.8 MB/s eta 0:00:00\n",
      "Collecting PyQt5-sip<13,>=12.8\n",
      "  Downloading PyQt5_sip-12.9.1-cp310-cp310-win_amd64.whl (77 kB)\n",
      "     ---------------------------------------- 77.7/77.7 KB 1.4 MB/s eta 0:00:00\n",
      "Collecting PyQt5-Qt5>=5.15.2\n",
      "  Downloading PyQt5_Qt5-5.15.2-py3-none-win_amd64.whl (50.1 MB)\n",
      "     ---------------------------------------- 50.1/50.1 MB 1.9 MB/s eta 0:00:00\n",
      "Installing collected packages: PyQt5-Qt5, PyQt5-sip, lxml, pyqt5\n",
      "Successfully installed PyQt5-Qt5-5.15.2 PyQt5-sip-12.9.1 lxml-4.8.0 pyqt5-5.15.6\n"
     ]
    }
   ],
   "source": [
    "!pip install --upgrade pyqt5 lxml"
   ]
  },
  {
   "cell_type": "code",
   "execution_count": 17,
   "metadata": {},
   "outputs": [
    {
     "name": "stdout",
     "output_type": "stream",
     "text": [
      "Package              Version\n",
      "-------------------- --------\n",
      "argon2-cffi          21.3.0\n",
      "argon2-cffi-bindings 21.2.0\n",
      "asttokens            2.0.5\n",
      "attrs                21.4.0\n",
      "backcall             0.2.0\n",
      "beautifulsoup4       4.10.0\n",
      "bleach               4.1.0\n",
      "cffi                 1.15.0\n",
      "colorama             0.4.4\n",
      "debugpy              1.5.1\n",
      "decorator            5.1.1\n",
      "defusedxml           0.7.1\n",
      "entrypoints          0.4\n",
      "executing            0.8.3\n",
      "ipykernel            6.9.2\n",
      "ipython              8.1.1\n",
      "ipython-genutils     0.2.0\n",
      "ipywidgets           7.7.0\n",
      "jedi                 0.18.1\n",
      "Jinja2               3.0.3\n",
      "jsonschema           4.4.0\n",
      "jupyter              1.0.0\n",
      "jupyter-client       7.1.2\n",
      "jupyter-console      6.4.3\n",
      "jupyter-core         4.9.2\n",
      "jupyterlab-pygments  0.1.2\n",
      "jupyterlab-widgets   1.1.0\n",
      "lxml                 4.8.0\n",
      "MarkupSafe           2.1.1\n",
      "matplotlib-inline    0.1.3\n",
      "mistune              0.8.4\n",
      "nbclient             0.5.13\n",
      "nbconvert            6.4.4\n",
      "nbformat             5.2.0\n",
      "nest-asyncio         1.5.4\n",
      "notebook             6.4.10\n",
      "numpy                1.22.3\n",
      "opencv-python        4.5.5.64\n",
      "packaging            21.3\n",
      "pandocfilters        1.5.0\n",
      "parso                0.8.3\n",
      "pickleshare          0.7.5\n",
      "pip                  22.0.4\n",
      "prometheus-client    0.13.1\n",
      "prompt-toolkit       3.0.28\n",
      "psutil               5.9.0\n",
      "pure-eval            0.2.2\n",
      "pycparser            2.21\n",
      "Pygments             2.11.2\n",
      "pyparsing            3.0.7\n",
      "PyQt5                5.15.6\n",
      "PyQt5-Qt5            5.15.2\n",
      "PyQt5-sip            12.9.1\n",
      "pyrsistent           0.18.1\n",
      "python-dateutil      2.8.2\n",
      "pywin32              303\n",
      "pywinpty             2.0.5\n",
      "pyzmq                22.3.0\n",
      "qtconsole            5.2.2\n",
      "QtPy                 2.0.1\n",
      "Send2Trash           1.8.0\n",
      "setuptools           58.1.0\n",
      "six                  1.16.0\n",
      "soupsieve            2.3.1\n",
      "stack-data           0.2.0\n",
      "terminado            0.13.3\n",
      "testpath             0.6.0\n",
      "tornado              6.1\n",
      "traitlets            5.1.1\n",
      "wcwidth              0.2.5\n",
      "webencodings         0.5.1\n",
      "widgetsnbextension   3.6.0\n"
     ]
    }
   ],
   "source": [
    "!pip list"
   ]
  },
  {
   "cell_type": "code",
   "execution_count": 19,
   "metadata": {},
   "outputs": [],
   "source": [
    "LABELIMG_PATH = os.path.join('Tensorflow', 'labelimg')"
   ]
  },
  {
   "cell_type": "code",
   "execution_count": 20,
   "metadata": {},
   "outputs": [
    {
     "name": "stderr",
     "output_type": "stream",
     "text": [
      "Cloning into 'Tensorflow\\labelimg'...\n"
     ]
    }
   ],
   "source": [
    "if not os.path.exists(LABELIMG_PATH):\n",
    "    !mkdir {LABELIMG_PATH}\n",
    "    !git clone https://github.com/tzutalin/labelImg {LABELIMG_PATH}"
   ]
  },
  {
   "cell_type": "code",
   "execution_count": 21,
   "metadata": {},
   "outputs": [],
   "source": [
    "if os.name == 'posix':\n",
    "    !cd {LABELIMG_PATH} && make qt5py3\n",
    "if os.name =='nt':\n",
    "    !cd {LABELIMG_PATH} && pyrcc5 -o libs/resources.py resources.qrc"
   ]
  },
  {
   "cell_type": "code",
   "execution_count": 22,
   "metadata": {},
   "outputs": [
    {
     "name": "stdout",
     "output_type": "stream",
     "text": [
      "Image:C:\\Users\\morri\\Tensorflow Object Detection\\TFODCourse\\Tensorflow\\workspace\\images\\collectedimages\\Abdurajak_Abubakar_Janjalani\\Abdurajak_Abubakar_Janjalani.7a8a8c39-a750-11ec-b605-4cd577d3c01a.jpg -> Annotation:C:/Users/morri/Tensorflow Object Detection/TFODCourse/Tensorflow/workspace/images/collectedimages/Abdurajak_Abubakar_Janjalani/Abdurajak_Abubakar_Janjalani.7a8a8c39-a750-11ec-b605-4cd577d3c01a.xml\n",
      "Image:C:\\Users\\morri\\Tensorflow Object Detection\\TFODCourse\\Tensorflow\\workspace\\images\\collectedimages\\Abdurajak_Abubakar_Janjalani\\Abdurajak_Abubakar_Janjalani.7bc5c0d1-a750-11ec-b94f-4cd577d3c01a.jpg -> Annotation:C:/Users/morri/Tensorflow Object Detection/TFODCourse/Tensorflow/workspace/images/collectedimages/Abdurajak_Abubakar_Janjalani/Abdurajak_Abubakar_Janjalani.7bc5c0d1-a750-11ec-b94f-4cd577d3c01a.xml\n",
      "Image:C:\\Users\\morri\\Tensorflow Object Detection\\TFODCourse\\Tensorflow\\workspace\\images\\collectedimages\\Abdurajak_Abubakar_Janjalani\\Abdurajak_Abubakar_Janjalani.7cf9881b-a750-11ec-aaa6-4cd577d3c01a.jpg -> Annotation:C:/Users/morri/Tensorflow Object Detection/TFODCourse/Tensorflow/workspace/images/collectedimages/Abdurajak_Abubakar_Janjalani/Abdurajak_Abubakar_Janjalani.7cf9881b-a750-11ec-aaa6-4cd577d3c01a.xml\n",
      "Image:C:\\Users\\morri\\Tensorflow Object Detection\\TFODCourse\\Tensorflow\\workspace\\images\\collectedimages\\Abdurajak_Abubakar_Janjalani\\Abdurajak_Abubakar_Janjalani.7e2e575a-a750-11ec-ba4d-4cd577d3c01a.jpg -> Annotation:C:/Users/morri/Tensorflow Object Detection/TFODCourse/Tensorflow/workspace/images/collectedimages/Abdurajak_Abubakar_Janjalani/Abdurajak_Abubakar_Janjalani.7e2e575a-a750-11ec-ba4d-4cd577d3c01a.xml\n",
      "Image:C:\\Users\\morri\\Tensorflow Object Detection\\TFODCourse\\Tensorflow\\workspace\\images\\collectedimages\\Abdurajak_Abubakar_Janjalani\\Abdurajak_Abubakar_Janjalani.7f6443e0-a750-11ec-bad4-4cd577d3c01a.jpg -> Annotation:C:/Users/morri/Tensorflow Object Detection/TFODCourse/Tensorflow/workspace/images/collectedimages/Abdurajak_Abubakar_Janjalani/Abdurajak_Abubakar_Janjalani.7f6443e0-a750-11ec-bad4-4cd577d3c01a.xml\n",
      "Image:C:\\Users\\morri\\Tensorflow Object Detection\\TFODCourse\\Tensorflow\\workspace\\images\\collectedimages\\Abdurajak_Abubakar_Janjalani\\Abdurajak_Abubakar_Janjalani.8a502b3a-a750-11ec-8a64-4cd577d3c01a.jpg -> Annotation:C:/Users/morri/Tensorflow Object Detection/TFODCourse/Tensorflow/workspace/images/collectedimages/Abdurajak_Abubakar_Janjalani/Abdurajak_Abubakar_Janjalani.8a502b3a-a750-11ec-8a64-4cd577d3c01a.xml\n",
      "Image:C:\\Users\\morri\\Tensorflow Object Detection\\TFODCourse\\Tensorflow\\workspace\\images\\collectedimages\\Abdurajak_Abubakar_Janjalani\\Abdurajak_Abubakar_Janjalani.8b86f5e8-a750-11ec-9c65-4cd577d3c01a.jpg -> Annotation:C:/Users/morri/Tensorflow Object Detection/TFODCourse/Tensorflow/workspace/images/collectedimages/Abdurajak_Abubakar_Janjalani/Abdurajak_Abubakar_Janjalani.8b86f5e8-a750-11ec-9c65-4cd577d3c01a.xml\n",
      "Image:C:\\Users\\morri\\Tensorflow Object Detection\\TFODCourse\\Tensorflow\\workspace\\images\\collectedimages\\Abdurajak_Abubakar_Janjalani\\Abdurajak_Abubakar_Janjalani.8cbdef7b-a750-11ec-a16a-4cd577d3c01a.jpg -> Annotation:C:/Users/morri/Tensorflow Object Detection/TFODCourse/Tensorflow/workspace/images/collectedimages/Abdurajak_Abubakar_Janjalani/Abdurajak_Abubakar_Janjalani.8cbdef7b-a750-11ec-a16a-4cd577d3c01a.xml\n",
      "Image:C:\\Users\\morri\\Tensorflow Object Detection\\TFODCourse\\Tensorflow\\workspace\\images\\collectedimages\\Abdurajak_Abubakar_Janjalani\\Abdurajak_Abubakar_Janjalani.8df467e4-a750-11ec-9e47-4cd577d3c01a.jpg -> Annotation:C:/Users/morri/Tensorflow Object Detection/TFODCourse/Tensorflow/workspace/images/collectedimages/Abdurajak_Abubakar_Janjalani/Abdurajak_Abubakar_Janjalani.8df467e4-a750-11ec-9e47-4cd577d3c01a.xml\n",
      "Image:C:\\Users\\morri\\Tensorflow Object Detection\\TFODCourse\\Tensorflow\\workspace\\images\\collectedimages\\Abdurajak_Abubakar_Janjalani\\Abdurajak_Abubakar_Janjalani.8f2bd687-a750-11ec-8e5a-4cd577d3c01a.jpg -> Annotation:C:/Users/morri/Tensorflow Object Detection/TFODCourse/Tensorflow/workspace/images/collectedimages/Abdurajak_Abubakar_Janjalani/Abdurajak_Abubakar_Janjalani.8f2bd687-a750-11ec-8e5a-4cd577d3c01a.xml\n",
      "Image:C:\\Users\\morri\\Tensorflow Object Detection\\TFODCourse\\Tensorflow\\workspace\\images\\collectedimages\\Abdurajak_Abubakar_Janjalani\\Abdurajak_Abubakar_Janjalani.81cff310-a750-11ec-936d-4cd577d3c01a.jpg -> Annotation:C:/Users/morri/Tensorflow Object Detection/TFODCourse/Tensorflow/workspace/images/collectedimages/Abdurajak_Abubakar_Janjalani/Abdurajak_Abubakar_Janjalani.81cff310-a750-11ec-936d-4cd577d3c01a.xml\n",
      "Image:C:\\Users\\morri\\Tensorflow Object Detection\\TFODCourse\\Tensorflow\\workspace\\images\\collectedimages\\Abdurajak_Abubakar_Janjalani\\Abdurajak_Abubakar_Janjalani.86ab8781-a750-11ec-a576-4cd577d3c01a.jpg -> Annotation:C:/Users/morri/Tensorflow Object Detection/TFODCourse/Tensorflow/workspace/images/collectedimages/Abdurajak_Abubakar_Janjalani/Abdurajak_Abubakar_Janjalani.86ab8781-a750-11ec-a576-4cd577d3c01a.xml\n",
      "Image:C:\\Users\\morri\\Tensorflow Object Detection\\TFODCourse\\Tensorflow\\workspace\\images\\collectedimages\\Abdurajak_Abubakar_Janjalani\\Abdurajak_Abubakar_Janjalani.87e28892-a750-11ec-8e9b-4cd577d3c01a.jpg -> Annotation:C:/Users/morri/Tensorflow Object Detection/TFODCourse/Tensorflow/workspace/images/collectedimages/Abdurajak_Abubakar_Janjalani/Abdurajak_Abubakar_Janjalani.87e28892-a750-11ec-8e9b-4cd577d3c01a.xml\n",
      "Image:C:\\Users\\morri\\Tensorflow Object Detection\\TFODCourse\\Tensorflow\\workspace\\images\\collectedimages\\Abdurajak_Abubakar_Janjalani\\Abdurajak_Abubakar_Janjalani.809be3a1-a750-11ec-b319-4cd577d3c01a.jpg -> Annotation:C:/Users/morri/Tensorflow Object Detection/TFODCourse/Tensorflow/workspace/images/collectedimages/Abdurajak_Abubakar_Janjalani/Abdurajak_Abubakar_Janjalani.809be3a1-a750-11ec-b319-4cd577d3c01a.xml\n",
      "Image:C:\\Users\\morri\\Tensorflow Object Detection\\TFODCourse\\Tensorflow\\workspace\\images\\collectedimages\\Abdurajak_Abubakar_Janjalani\\Abdurajak_Abubakar_Janjalani.843d5161-a750-11ec-875d-4cd577d3c01a.jpg -> Annotation:C:/Users/morri/Tensorflow Object Detection/TFODCourse/Tensorflow/workspace/images/collectedimages/Abdurajak_Abubakar_Janjalani/Abdurajak_Abubakar_Janjalani.843d5161-a750-11ec-875d-4cd577d3c01a.xml\n",
      "Image:C:\\Users\\morri\\Tensorflow Object Detection\\TFODCourse\\Tensorflow\\workspace\\images\\collectedimages\\Abdurajak_Abubakar_Janjalani\\Abdurajak_Abubakar_Janjalani.7945d150-a750-11ec-80d3-4cd577d3c01a.jpg -> Annotation:C:/Users/morri/Tensorflow Object Detection/TFODCourse/Tensorflow/workspace/images/collectedimages/Abdurajak_Abubakar_Janjalani/Abdurajak_Abubakar_Janjalani.7945d150-a750-11ec-80d3-4cd577d3c01a.xml\n",
      "Image:C:\\Users\\morri\\Tensorflow Object Detection\\TFODCourse\\Tensorflow\\workspace\\images\\collectedimages\\Abdurajak_Abubakar_Janjalani\\Abdurajak_Abubakar_Janjalani.8305e29b-a750-11ec-a864-4cd577d3c01a.jpg -> Annotation:C:/Users/morri/Tensorflow Object Detection/TFODCourse/Tensorflow/workspace/images/collectedimages/Abdurajak_Abubakar_Janjalani/Abdurajak_Abubakar_Janjalani.8305e29b-a750-11ec-a864-4cd577d3c01a.xml\n",
      "Image:C:\\Users\\morri\\Tensorflow Object Detection\\TFODCourse\\Tensorflow\\workspace\\images\\collectedimages\\Abdurajak_Abubakar_Janjalani\\Abdurajak_Abubakar_Janjalani.8573fa7a-a750-11ec-aeb6-4cd577d3c01a.jpg -> Annotation:C:/Users/morri/Tensorflow Object Detection/TFODCourse/Tensorflow/workspace/images/collectedimages/Abdurajak_Abubakar_Janjalani/Abdurajak_Abubakar_Janjalani.8573fa7a-a750-11ec-aeb6-4cd577d3c01a.xml\n",
      "Image:C:\\Users\\morri\\Tensorflow Object Detection\\TFODCourse\\Tensorflow\\workspace\\images\\collectedimages\\Abdurajak_Abubakar_Janjalani\\Abdurajak_Abubakar_Janjalani.8919009f-a750-11ec-90e6-4cd577d3c01a.jpg -> Annotation:C:/Users/morri/Tensorflow Object Detection/TFODCourse/Tensorflow/workspace/images/collectedimages/Abdurajak_Abubakar_Janjalani/Abdurajak_Abubakar_Janjalani.8919009f-a750-11ec-90e6-4cd577d3c01a.xml\n",
      "Image:C:\\Users\\morri\\Tensorflow Object Detection\\TFODCourse\\Tensorflow\\workspace\\images\\collectedimages\\Abdurajak_Abubakar_Janjalani\\Abdurajak_Abubakar_Janjalani.9063423e-a750-11ec-805f-4cd577d3c01a.jpg -> Annotation:C:/Users/morri/Tensorflow Object Detection/TFODCourse/Tensorflow/workspace/images/collectedimages/Abdurajak_Abubakar_Janjalani/Abdurajak_Abubakar_Janjalani.9063423e-a750-11ec-805f-4cd577d3c01a.xml\n"
     ]
    }
   ],
   "source": [
    "!cd {LABELIMG_PATH} && python labelImg.py"
   ]
  },
  {
   "cell_type": "markdown",
   "metadata": {},
   "source": [
    "# 6. Move them into a Training and Testing Partition"
   ]
  },
  {
   "cell_type": "markdown",
   "metadata": {},
   "source": [
    "# OPTIONAL - 7. Compress them for Colab Training"
   ]
  },
  {
   "cell_type": "code",
   "execution_count": 20,
   "metadata": {},
   "outputs": [],
   "source": [
    "#TRAIN_PATH = os.path.join('Tensorflow', 'workspace', 'images', 'train')\n",
    "#TEST_PATH = os.path.join('Tensorflow', 'workspace', 'images', 'test')\n",
    "#ARCHIVE_PATH = os.path.join('Tensorflow', 'workspace', 'images', 'archive.tar.gz')"
   ]
  },
  {
   "cell_type": "code",
   "execution_count": 21,
   "metadata": {},
   "outputs": [],
   "source": [
    "!tar -czf {ARCHIVE_PATH} {TRAIN_PATH} {TEST_PATH}"
   ]
  },
  {
   "cell_type": "code",
   "execution_count": null,
   "metadata": {},
   "outputs": [],
   "source": []
  }
 ],
 "metadata": {
  "kernelspec": {
   "display_name": "tfod",
   "language": "python",
   "name": "tfod"
  },
  "language_info": {
   "codemirror_mode": {
    "name": "ipython",
    "version": 3
   },
   "file_extension": ".py",
   "mimetype": "text/x-python",
   "name": "python",
   "nbconvert_exporter": "python",
   "pygments_lexer": "ipython3",
   "version": "3.10.3"
  }
 },
 "nbformat": 4,
 "nbformat_minor": 2
}
